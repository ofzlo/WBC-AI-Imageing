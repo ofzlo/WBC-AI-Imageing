{
  "cells": [
    {
      "cell_type": "markdown",
      "metadata": {
        "id": "view-in-github",
        "colab_type": "text"
      },
      "source": [
        "<a href=\"https://colab.research.google.com/github/ofzlo/WBC-AI-Imageing/blob/main/AI_Cell_Imaging_test.ipynb\" target=\"_parent\"><img src=\"https://colab.research.google.com/assets/colab-badge.svg\" alt=\"Open In Colab\"/></a>"
      ]
    },
    {
      "cell_type": "code",
      "execution_count": null,
      "metadata": {
        "colab": {
          "base_uri": "https://localhost:8080/"
        },
        "id": "IfJV9KnGhSrn",
        "outputId": "dc4053d7-05f0-46af-c8ca-be47ca2a45b6"
      },
      "outputs": [
        {
          "name": "stdout",
          "output_type": "stream",
          "text": [
            "Drive already mounted at /content/drive; to attempt to forcibly remount, call drive.mount(\"/content/drive\", force_remount=True).\n"
          ]
        }
      ],
      "source": [
        "from google.colab import drive\n",
        "drive.mount('/content/drive')"
      ]
    },
    {
      "cell_type": "code",
      "execution_count": null,
      "metadata": {
        "id": "kDt5x_s5SrYL"
      },
      "outputs": [],
      "source": [
        "from google.colab.patches import cv2_imshow\n",
        "import numpy as np\n",
        "import cv2\n",
        "import matplotlib.pyplot as plt\n",
        "import os"
      ]
    },
    {
      "cell_type": "markdown",
      "metadata": {
        "id": "iUBLyebC3os-"
      },
      "source": [
        "# Image Preprocessing"
      ]
    },
    {
      "cell_type": "code",
      "execution_count": null,
      "metadata": {
        "id": "ruuBm0HZYV4m"
      },
      "outputs": [],
      "source": [
        "def isText(img):\n",
        "  colors = ['b', 'g', 'r']\n",
        "  bgr_planes = cv2.split(img)\n",
        "  global green\n",
        "\n",
        "  for (p, c) in zip(bgr_planes, colors):\n",
        "    if c == 'g':\n",
        "      green = cv2.calcHist([p], [0], None, [256], [0, 256])\n",
        "\n",
        "  if green[250] > 0:\n",
        "    return True\n",
        "  \n",
        "  return False"
      ]
    },
    {
      "cell_type": "code",
      "execution_count": null,
      "metadata": {
        "id": "QlwUdHHEZdbm"
      },
      "outputs": [],
      "source": [
        "def img_crop(img, path):\n",
        "  cv2.imwrite(img, path)"
      ]
    },
    {
      "cell_type": "code",
      "execution_count": null,
      "metadata": {
        "id": "JwXKmnq13hdA"
      },
      "outputs": [],
      "source": [
        "def find_contours(img, size):\n",
        "  RGB = cv2.cvtColor(img, cv2.COLOR_BGR2RGB)\n",
        "  gray = cv2.cvtColor(RGB, cv2.COLOR_RGB2GRAY)\n",
        "  res, thr = cv2.threshold(gray, size, 255, cv2.THRESH_BINARY)\n",
        "  contours, _ = cv2.findContours(thr, cv2.RETR_TREE, cv2.CHAIN_APPROX_SIMPLE)\n",
        "  \n",
        "  ct = []\n",
        "  for i in range(len(contours)):\n",
        "    cnt = contours[i]\n",
        "    x, y, w, h = cv2.boundingRect(cnt)\n",
        "    test_img = img[y:y+h, x:x+w]\n",
        "    if w+h > 4000 or w+h < 80 or isText(test_img):\n",
        "      continue\n",
        "    else:\n",
        "      ct.append(cnt)\n",
        "  \n",
        "  return ct"
      ]
    },
    {
      "cell_type": "code",
      "execution_count": null,
      "metadata": {
        "id": "ClfFxfx09rZ9"
      },
      "outputs": [],
      "source": [
        "def color_distribution(img):\n",
        "  colors = ['b', 'g', 'r']\n",
        "  bgr_planes = cv2.split(img)\n",
        "  global blue\n",
        "\n",
        "  for (p, c) in zip(bgr_planes, colors):\n",
        "    if c == 'b':\n",
        "      blue = cv2.calcHist([p], [0], None, [256], [0, 256])\n",
        "    hist = cv2.calcHist([p], [0], None, [256], [0, 256])\n",
        "\n",
        "  tmp1 = blue[195].tolist()\n",
        "  tmp2 = int(tmp1[0])\n",
        "  return tmp2"
      ]
    },
    {
      "cell_type": "code",
      "execution_count": null,
      "metadata": {
        "id": "QYVKfIms9t38"
      },
      "outputs": [],
      "source": [
        "def draw_bb(img, contours):\n",
        "  num=0\n",
        "  for i in range(len(contours[:]) - 1):\n",
        "    cnt = contours[i]\n",
        "    x, y, w, h = cv2.boundingRect(cnt)\n",
        "    cv2.rectangle(img, (x, y), (x+w, y+h), (0,0,255), 3)\n",
        "    #path 지정해주기\n",
        "    CROP_PATH = ''\n",
        "    path = CROP_PATH + str(num)+'.jpg'\n",
        "    img_crop(path, img[y:y+h, x:x+w])\n",
        "    num += 1\n",
        "  cv2_imshow(img)"
      ]
    },
    {
      "cell_type": "code",
      "execution_count": null,
      "metadata": {
        "id": "CX3XvS479vFk"
      },
      "outputs": [],
      "source": [
        "def erode(img):\n",
        "  kernel = cv2.getStructuringElement(cv2.MORPH_ELLIPSE,(5,5))\n",
        "  erosion = cv2.erode(img,kernel,iterations=2)\n",
        "  return erosion"
      ]
    },
    {
      "cell_type": "code",
      "execution_count": null,
      "metadata": {
        "id": "UHXEFTK49wON"
      },
      "outputs": [],
      "source": [
        "def dilate(img):\n",
        "  kernel = cv2.getStructuringElement(cv2.MORPH_ELLIPSE,(5,5))\n",
        "  dilation = cv2.dilate(img,kernel,iterations=3)\n",
        "  return dilation"
      ]
    },
    {
      "cell_type": "code",
      "execution_count": null,
      "metadata": {
        "id": "tekMW-qP9xW1"
      },
      "outputs": [],
      "source": [
        "def find_cells(img):\n",
        "\n",
        "  img_copy = img.copy()\n",
        "\n",
        "  isTrue = True\n",
        "\n",
        "  #핵 주변 색 분포 파악\n",
        "  while(isTrue):\n",
        "\n",
        "    #핵 찾기\n",
        "    contours = find_contours(img, 100)\n",
        "\n",
        "    #핵 주변 찾기\n",
        "    for i in range(len(contours) - 1):\n",
        "      cnt = contours[i]\n",
        "      x, y, w, h = cv2.boundingRect(cnt)\n",
        "      img_cut = img_copy[y-h:y+2*h, x-w:x+2*w]\n",
        "\n",
        "      #색 분포 정상\n",
        "      if color_distribution(img_cut) < 300:\n",
        "          isTrue = False\n",
        "\n",
        "      #색 분포 비정상\n",
        "      else:\n",
        "        try:\n",
        "          isTrue = True\n",
        "          img_copy[y-h:y+2*h, x-w:x+2*w] = erode(dilate(img_cut))\n",
        "        except:\n",
        "          isTrue = False\n",
        "\n",
        "  #세포질 찾기\n",
        "  contours = find_contours(img_copy, 190)\n",
        "\n",
        "  #바운딩 박스 그리기\n",
        "  draw_bb(img, contours)\n",
        "  "
      ]
    },
    {
      "cell_type": "code",
      "execution_count": null,
      "metadata": {
        "colab": {
          "background_save": true
        },
        "id": "64CCxxnjRf_P"
      },
      "outputs": [],
      "source": [
        "IMG = ''\n",
        "img=cv2.imread(IMG)\n",
        "find_cells(img)"
      ]
    },
    {
      "cell_type": "markdown",
      "metadata": {
        "id": "gl_-jEY93sxY"
      },
      "source": [
        "# Clustering"
      ]
    },
    {
      "cell_type": "code",
      "execution_count": null,
      "metadata": {
        "id": "L67g4k7Y3uc6"
      },
      "outputs": [],
      "source": [
        "import glob\n",
        "import numpy as np \n",
        "from PIL import Image\n",
        "import cv2\n",
        "from google.colab.patches import cv2_imshow\n",
        "\n",
        "#kmeans library \n",
        "from sklearn.cluster import KMeans\n",
        "from sklearn.metrics import accuracy_score \n",
        "\n",
        "data=[]\n",
        "CROP_SAVE_DIR = ''\n",
        "files=glob.glob(CROP_SAVE_DIR)\n",
        "for my_file in files:\n",
        "  #print(my_file)\n",
        "  image_bgr=cv2.imread(my_file)\n",
        "  image=cv2.cvtColor(image_bgr, cv2.COLOR_BGR2RGB) #rgb로 바꾸기\n",
        "  image=cv2.resize(image, (64,64))\n",
        "  image=np.array(image)\n",
        "  data.append(image)"
      ]
    },
    {
      "cell_type": "code",
      "execution_count": null,
      "metadata": {
        "id": "ygZ9suOj5EGv"
      },
      "outputs": [],
      "source": [
        "img_np=np.array(data)\n",
        "print(img_np.shape)\n",
        "\n",
        "RESIZE_SAVE_DIR = ''\n",
        "np.save(RESIZE_SAVE_DIR,img_np)"
      ]
    },
    {
      "cell_type": "code",
      "execution_count": null,
      "metadata": {
        "id": "F2tWHufI5EEA"
      },
      "outputs": [],
      "source": [
        "NPY_DIR = ''\n",
        "data=np.load(NPY_DIR)\n",
        "data_2d=data.reshape(-1,64*64*3)\n",
        "\n",
        "#print(\"sample_data의 shape 맞추기:\", data)\n",
        "#print(\"sample_data_2d의 shape 맞추기:\", data_2d)\n",
        "\n",
        "print(\"sample_data.shape:\", data.shape)\n",
        "print(\"sample_data_2d.shape:\", data_2d.shape)"
      ]
    },
    {
      "cell_type": "code",
      "execution_count": null,
      "metadata": {
        "id": "R3xFz1nL5EAv"
      },
      "outputs": [],
      "source": [
        "km=KMeans(n_clusters=6, random_state=42)\n",
        "km.fit(data_2d)\n",
        "print('km.labels_', km.labels_)\n",
        "print('km.labels_.shape', km.labels_.shape)\n",
        "print(km.labels_[0:])\n",
        "\n",
        "print(np.unique(km.labels_, return_counts=True))\n",
        "print(km.labels_)\n",
        "\n",
        "import matplotlib.pyplot as plt\n",
        "\n",
        "def draw_sample_data(arr, ratio=1):\n",
        "    n = len(arr)  # n은 샘플 개수\n",
        "    # 한 줄에 10개씩 이미지를 그림. 샘플 개수를 10으로 나누어 전체 행 개수를 계산.\n",
        "    print(n)\n",
        "    rows = int(np.ceil(n / 10))\n",
        "    # 행이 1개 이면 열 개수는 샘플 개수. 그렇지 않으면 10개.\n",
        "    cols = n if rows < 2 else 10\n",
        "    fig, axs = plt.subplots(rows, cols,\n",
        "                            figsize=(cols * ratio, rows * ratio), squeeze=False)\n",
        "    for i in range(rows):\n",
        "        #print(i)\n",
        "        for j in range(cols):\n",
        "            if i * 10 + j < n:  # n 개까지.\n",
        "                #print(i)\n",
        "                axs[i, j].imshow(arr[i * 10 + j], cmap='gray_r')\n",
        "            axs[i, j].axis('off')\n",
        "    plt.show()"
      ]
    },
    {
      "cell_type": "markdown",
      "metadata": {
        "id": "vCIiZRE05PFo"
      },
      "source": [
        "### Clustering Result"
      ]
    },
    {
      "cell_type": "code",
      "execution_count": null,
      "metadata": {
        "id": "KgmQFVBj5D95"
      },
      "outputs": [],
      "source": [
        "draw_sample_data(data[km.labels_ == 0])"
      ]
    },
    {
      "cell_type": "code",
      "execution_count": null,
      "metadata": {
        "id": "LzXRl3N45D6Q"
      },
      "outputs": [],
      "source": [
        "draw_sample_data(data[km.labels_ == 1])"
      ]
    },
    {
      "cell_type": "code",
      "execution_count": null,
      "metadata": {
        "id": "3F9chNT05D2g"
      },
      "outputs": [],
      "source": [
        "draw_sample_data(data[km.labels_ == 2])"
      ]
    },
    {
      "cell_type": "code",
      "execution_count": null,
      "metadata": {
        "id": "w12YiJM35SmV"
      },
      "outputs": [],
      "source": [
        "draw_sample_data(data[km.labels_ == 3])"
      ]
    },
    {
      "cell_type": "code",
      "execution_count": null,
      "metadata": {
        "id": "D7uDYEj85SjN"
      },
      "outputs": [],
      "source": [
        "draw_sample_data(data[km.labels_ == 4])"
      ]
    },
    {
      "cell_type": "code",
      "execution_count": null,
      "metadata": {
        "id": "JWFEvbkb5SgT"
      },
      "outputs": [],
      "source": [
        "draw_sample_data(data[km.labels_ == 5])"
      ]
    },
    {
      "cell_type": "markdown",
      "metadata": {
        "id": "Tf91AChX3u2x"
      },
      "source": [
        "# Modeling\n",
        "Model Summary : 'MobileNetV2'"
      ]
    },
    {
      "cell_type": "code",
      "execution_count": null,
      "metadata": {
        "id": "ZcNAje_IkQtR"
      },
      "outputs": [],
      "source": [
        "from keras.models import load_model\n",
        "import os"
      ]
    },
    {
      "cell_type": "code",
      "execution_count": null,
      "metadata": {
        "id": "F32fnTRy3xQj"
      },
      "outputs": [],
      "source": [
        "MODEL_PATH = ''\n",
        "model = load_model(MODEL_PATH)"
      ]
    },
    {
      "cell_type": "code",
      "execution_count": null,
      "metadata": {
        "id": "UBZ0qYBRkjed"
      },
      "outputs": [],
      "source": [
        "TEST_DIR = ''\n",
        "result = [0, 0, 0, 0, 0, 0]\n",
        "file_list = os.listdir(TEST_DIR)\n",
        "\n",
        "for i in range(len(file_list)):\n",
        "  src = cv2.imread(os.path.join(TEST_DIR, file_list[i]))\n",
        "  img = cv2.resize(src,(96, 96))\n",
        "  img = np.expand_dims(img, axis=0)\n",
        "  pred_labels = model.predict(img)\n",
        "  class_idx = np.argmax(pred_labels)\n",
        "  result[class_idx] += 1\n",
        "\n",
        "print_result(result)"
      ]
    }
  ],
  "metadata": {
    "colab": {
      "provenance": [],
      "include_colab_link": true
    },
    "kernelspec": {
      "display_name": "Python 3",
      "name": "python3"
    },
    "language_info": {
      "name": "python"
    }
  },
  "nbformat": 4,
  "nbformat_minor": 0
}